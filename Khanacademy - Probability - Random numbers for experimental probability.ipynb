{
 "cells": [
  {
   "cell_type": "markdown",
   "metadata": {},
   "source": [
    "# Khanacademy - AP Statistics\n",
    "\n",
    "## Probability\n",
    "\n",
    "### Random numbers for experimental probability\n",
    "\n",
    "_Pascale Ricketts has invented a game called \"3 Rolls to Ten\". You roll a fair 6-sided die three times.\n",
    "If the sum of the rolls is 10 or greater, you win.\n",
    "If it is less than 10, you lose.\n",
    "What is the probability of winning \"3 Rolls to Ten\"?_"
   ]
  },
  {
   "cell_type": "code",
   "execution_count": 1,
   "metadata": {
    "collapsed": true
   },
   "outputs": [],
   "source": [
    "import random"
   ]
  },
  {
   "cell_type": "code",
   "execution_count": 2,
   "metadata": {
    "collapsed": true
   },
   "outputs": [],
   "source": [
    "random.seed(123)"
   ]
  },
  {
   "cell_type": "code",
   "execution_count": 38,
   "metadata": {
    "collapsed": false
   },
   "outputs": [],
   "source": [
    "def pascaleRicketts_3_rolls_to_10():\n",
    "    result = False\n",
    "    if(random.randint(1,6) + random.randint(1,6) + random.randint(1,6) > 10):\n",
    "        result = True\n",
    "    return result"
   ]
  },
  {
   "cell_type": "code",
   "execution_count": 57,
   "metadata": {
    "collapsed": false
   },
   "outputs": [
    {
     "name": "stdout",
     "output_type": "stream",
     "text": [
      "0.4988\n"
     ]
    }
   ],
   "source": [
    "i = 0\n",
    "j = 0\n",
    "while(i < 10000):\n",
    "    i += 1\n",
    "    if(pascaleRicketts_3_rolls_to_10()):\n",
    "        j += 1\n",
    "\n",
    "print(str(j/i))"
   ]
  },
  {
   "cell_type": "markdown",
   "metadata": {},
   "source": [
    "## References\n",
    "\n",
    "https://stackoverflow.com/questions/11526975/set-random-seed-programwide-in-python\n",
    "\n",
    "https://docs.python.org/3.1/library/random.html\n",
    "\n",
    "http://anh.cs.luc.edu/python/hands-on/3.1/handsonHtml/functions.html"
   ]
  }
 ],
 "metadata": {
  "kernelspec": {
   "display_name": "Python 3",
   "language": "python",
   "name": "python3"
  },
  "language_info": {
   "codemirror_mode": {
    "name": "ipython",
    "version": 3
   },
   "file_extension": ".py",
   "mimetype": "text/x-python",
   "name": "python",
   "nbconvert_exporter": "python",
   "pygments_lexer": "ipython3",
   "version": "3.6.2"
  }
 },
 "nbformat": 4,
 "nbformat_minor": 2
}
